{
    "cells": [
        {
            "metadata": {
                "collapsed": true
            },
            "cell_type": "markdown",
            "source": "# Coursera IBM Data Science Capstone Project"
        },
        {
            "metadata": {},
            "cell_type": "markdown",
            "source": "This notebook will be used mainly for the Coursera Data Science Capstone Project"
        },
        {
            "metadata": {},
            "cell_type": "code",
            "source": "import pandas as pd\nimport numpy as np",
            "execution_count": 1,
            "outputs": []
        },
        {
            "metadata": {},
            "cell_type": "code",
            "source": "print(\"Hello Capstone Project Course!\")",
            "execution_count": 2,
            "outputs": [
                {
                    "output_type": "stream",
                    "text": "Hello Capstone Project Course!\n",
                    "name": "stdout"
                }
            ]
        },
        {
            "metadata": {},
            "cell_type": "markdown",
            "source": "## Week 1"
        },
        {
            "metadata": {},
            "cell_type": "markdown",
            "source": "For this week, you will required to submit the following:\n\nA description of the problem and a discussion of the background. (15 marks)\nA description of the data and how it will be used to solve the problem. (15 marks)\nFor the second week, the final deliverables of the project will be:\n\n* A link to your Notebook on your Github repository, showing your code. (15 marks)\n* A full report consisting of all of the following components (15 marks):\n* Introduction where you discuss the business problem and who would be interested in this project.\n* Data where you describe the data that will be used to solve the problem and the source of the data.\n* Methodology section which represents the main component of the report where you discuss and describe any exploratory data analysis that you did, any inferential statistical testing that you performed, if any, and what machine learnings were used and why.\n* Results section where you discuss the results.\n* Discussion section where you discuss any observations you noted and any recommendations you can make based on the results.\n* Conclusion section where you conclude the report.\n3. Your choice of a presentation or blogpost. (10 marks)"
        },
        {
            "metadata": {},
            "cell_type": "markdown",
            "source": "### Introduction/Business Problem\n\nClearly define a problem or an idea of your choice, where you would need to leverage the Foursquare location data to solve or execute. Remember that data science problems always target an audience and are meant to help a group of stakeholders solve a problem, so make sure that you explicitly describe your audience and why they would care about your problem.\n\n"
        },
        {
            "metadata": {},
            "cell_type": "markdown",
            "source": "### Background"
        },
        {
            "metadata": {},
            "cell_type": "markdown",
            "source": "### Data \n\nDescribe the data that you will be using to solve the problem or execute your idea. Remember that you will need to use the Foursquare location data to solve the problem or execute your idea. You can absolutely use other datasets in combination with the Foursquare location data. So make sure that you provide adequate explanation and discussion, with examples, of the data that you will be using, even if it is only Foursquare location data.\n\n"
        },
        {
            "metadata": {},
            "cell_type": "markdown",
            "source": "### Methodology"
        },
        {
            "metadata": {},
            "cell_type": "markdown",
            "source": "### Results"
        },
        {
            "metadata": {},
            "cell_type": "markdown",
            "source": "### Discussion"
        },
        {
            "metadata": {},
            "cell_type": "markdown",
            "source": "### Conclusion"
        },
        {
            "metadata": {},
            "cell_type": "markdown",
            "source": "### Presentation/Blogpost: [insert link]"
        },
        {
            "metadata": {},
            "cell_type": "code",
            "source": "",
            "execution_count": null,
            "outputs": []
        }
    ],
    "metadata": {
        "kernelspec": {
            "name": "python3",
            "display_name": "Python 3.7",
            "language": "python"
        },
        "language_info": {
            "name": "python",
            "version": "3.7.9",
            "mimetype": "text/x-python",
            "codemirror_mode": {
                "name": "ipython",
                "version": 3
            },
            "pygments_lexer": "ipython3",
            "nbconvert_exporter": "python",
            "file_extension": ".py"
        }
    },
    "nbformat": 4,
    "nbformat_minor": 1
}