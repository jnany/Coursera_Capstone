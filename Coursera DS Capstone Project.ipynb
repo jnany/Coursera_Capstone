{
    "cells": [
        {
            "metadata": {
                "collapsed": true
            },
            "cell_type": "markdown",
            "source": "# Coursera IBM Data Science Capstone Project"
        },
        {
            "metadata": {},
            "cell_type": "markdown",
            "source": "This notebook will be used mainly for the Coursera Data Science Capstone Project"
        },
        {
            "metadata": {},
            "cell_type": "code",
            "source": "import pandas as pd\nimport numpy as np",
            "execution_count": 1,
            "outputs": []
        },
        {
            "metadata": {},
            "cell_type": "code",
            "source": "print(\"Hello Capstone Project Course!\")",
            "execution_count": 2,
            "outputs": [
                {
                    "output_type": "stream",
                    "text": "Hello Capstone Project Course!\n",
                    "name": "stdout"
                }
            ]
        },
        {
            "metadata": {},
            "cell_type": "markdown",
            "source": "## 1. Introduction\n\n\n### 1.1 Background/Business Problem\n\nSeattle is a large metropolitan city that also attracts millions of tourists every year. Suppose a movie theater chain is interested in exploring new business models to implement post-COVID-19 in Seattle. Given the shift to OTT platforms and consumers relying more on online streaming services, this is an important business question for the movie theater to help maintain its revenues/profits and for the future health of the company. The movie theater chain wants to better understand customer segmentation in Seattle based on venues around the city, and possible recommendations for new business models to test in 2021 or 2022.\n",
            "attachments": {}
        },
        {
            "metadata": {},
            "cell_type": "markdown",
            "source": "### 1.2 Data \n\nThe data that will be used to analyze this business problem will include the Foursquare location data. I'm particularly interested in the following data analysis:\n*\tDensity/Number of movie theaters in different areas of Seattle away from city center to stay in line with social distancing regulations as needed\n*\tPopularity (aka foot traffic) of different neighborhoods away from city center based on the number of other venues present, such as restaurants, stores, etc.\n*\tSeattle\u2019s similarity to other nearby cities, e.g. Portland, Vancouver to better understand Seattle\u2019s unique customer segments, i.e. what makes it different from potential movie goers in other similar cities? \n\nFor a list of neighborhoods in Seattle, this wikipedia page will be used: https://en.wikipedia.org/wiki/List_of_neighborhoods_in_Seattle\n\nAdditionally, I will refer to industry reports and recent news on the movie theater industry from the following sources:\n*\tIndustry reports such as ibisworld, WSJ, etc. for insights into consumer behavior trends\n",
            "attachments": {}
        },
        {
            "metadata": {},
            "cell_type": "markdown",
            "source": "### Methodology"
        },
        {
            "metadata": {},
            "cell_type": "markdown",
            "source": "### Results"
        },
        {
            "metadata": {},
            "cell_type": "markdown",
            "source": "### Discussion"
        },
        {
            "metadata": {},
            "cell_type": "markdown",
            "source": "### Conclusion"
        },
        {
            "metadata": {},
            "cell_type": "markdown",
            "source": "### Presentation/Blogpost: [insert link TBD]"
        },
        {
            "metadata": {},
            "cell_type": "code",
            "source": "",
            "execution_count": null,
            "outputs": []
        }
    ],
    "metadata": {
        "kernelspec": {
            "name": "python3",
            "display_name": "Python 3.7",
            "language": "python"
        },
        "language_info": {
            "name": "python",
            "version": "3.7.9",
            "mimetype": "text/x-python",
            "codemirror_mode": {
                "name": "ipython",
                "version": 3
            },
            "pygments_lexer": "ipython3",
            "nbconvert_exporter": "python",
            "file_extension": ".py"
        }
    },
    "nbformat": 4,
    "nbformat_minor": 1
}